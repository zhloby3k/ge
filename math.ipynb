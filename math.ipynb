{
 "cells": [
  {
   "cell_type": "code",
   "execution_count": 1,
   "metadata": {
    "collapsed": true
   },
   "outputs": [],
   "source": [
    "from grammar import Grammar\n",
    "import random"
   ]
  },
  {
   "cell_type": "code",
   "execution_count": 2,
   "metadata": {
    "collapsed": true
   },
   "outputs": [],
   "source": [
    "functions = {\n",
    "    'add'      : lambda x, y: x + y,\n",
    "    'sustract' : lambda x, y: x - y,\n",
    "    'multiple' : lambda x, y: x * y,\n",
    "}"
   ]
  },
  {
   "cell_type": "code",
   "execution_count": 3,
   "metadata": {
    "collapsed": true
   },
   "outputs": [],
   "source": [
    "Rules = {\n",
    "    'S' : ['expr'],\n",
    "    'expr' : [['bi_op', 'expr', 'expr'],\n",
    "              'd',\n",
    "              ],    \n",
    "    'bi_op' : ['add', 'sustract', 'multiple'],\n",
    "    'd' : ['i',\n",
    "           ['i', 'd']],\n",
    "    'i' : ['0', '1', '2', '3', '4', '5', '6', '7', '8', '9']\n",
    "}"
   ]
  },
  {
   "cell_type": "code",
   "execution_count": 4,
   "metadata": {
    "collapsed": true
   },
   "outputs": [],
   "source": [
    "grammar1 = Grammar(Rules, functions, 20, 'S')"
   ]
  },
  {
   "cell_type": "code",
   "execution_count": 25,
   "metadata": {
    "collapsed": false
   },
   "outputs": [
    {
     "name": "stdout",
     "output_type": "stream",
     "text": [
      "['sustract', ['sustract', '6', ['sustract', ['9', '3'], '2']], ['multiple', ['8', '7'], ['multiple', '1', ['sustract', ['multiple', '4', ['multiple', ['add', '0', ['add', '3', ['7', '2']]], ['4', '1']]], '1']]]]\n"
     ]
    }
   ],
   "source": [
    "rna = [random.randint(0,256) for x in range(1,10000)]\n",
    "translation = grammar1.translate(rna)\n",
    "print(translation)"
   ]
  },
  {
   "cell_type": "code",
   "execution_count": 26,
   "metadata": {
    "collapsed": false
   },
   "outputs": [
    {
     "name": "stdout",
     "output_type": "stream",
     "text": [
      "-1070098\n"
     ]
    }
   ],
   "source": [
    "tree = grammar1.build_exec_tree(translation)\n",
    "print(tree.evaluate())"
   ]
  },
  {
   "cell_type": "code",
   "execution_count": 28,
   "metadata": {
    "collapsed": false
   },
   "outputs": [
    {
     "name": "stdout",
     "output_type": "stream",
     "text": [
      "sustract\n",
      "  sustract\n",
      "    6\n",
      "    sustract\n",
      "      93\n",
      "      2\n",
      "  multiple\n",
      "    87\n",
      "    multiple\n",
      "      1\n",
      "      sustract\n",
      "        multiple\n",
      "          4\n",
      "          multiple\n",
      "            add\n",
      "              0\n",
      "              add\n",
      "                3\n",
      "                72\n",
      "            41\n",
      "        1\n"
     ]
    }
   ],
   "source": [
    "tree.disp()"
   ]
  }
 ],
 "metadata": {
  "anaconda-cloud": {},
  "kernelspec": {
   "display_name": "Python [default]",
   "language": "python",
   "name": "python3"
  },
  "language_info": {
   "codemirror_mode": {
    "name": "ipython",
    "version": 3
   },
   "file_extension": ".py",
   "mimetype": "text/x-python",
   "name": "python",
   "nbconvert_exporter": "python",
   "pygments_lexer": "ipython3",
   "version": "3.5.2"
  }
 },
 "nbformat": 4,
 "nbformat_minor": 1
}
