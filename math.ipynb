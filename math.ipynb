{
 "cells": [
  {
   "cell_type": "code",
   "execution_count": 1,
   "metadata": {
    "collapsed": true
   },
   "outputs": [],
   "source": [
    "from grammar import Grammar\n",
    "import random"
   ]
  },
  {
   "cell_type": "code",
   "execution_count": 3,
   "metadata": {
    "collapsed": true
   },
   "outputs": [],
   "source": [
    "functions = {\n",
    "    'add'      : lambda x, y, *, i = 0: x + y,\n",
    "    'sustract' : lambda x, y, *, i = 0: x - y,\n",
    "    'multiple' : lambda x, y, *, i = 0: x * y,\n",
    "}"
   ]
  },
  {
   "cell_type": "code",
   "execution_count": 6,
   "metadata": {
    "collapsed": false
   },
   "outputs": [],
   "source": [
    "Rules = {\n",
    "    'S' : ['expr'],\n",
    "    'expr' : [['bi_op', 'expr', 'expr'],\n",
    "              'int', 'float'],    \n",
    "    'bi_op' : ['add', 'sustract', 'multiple'],\n",
    "    \n",
    "    'int' : ['all',\n",
    "             ['not_zero', 'all']],\n",
    "    \n",
    "    'not_zero' : ['1', '2', '3', '4', '5', '6', '7', '8', '9'],\n",
    "    'all' : ['0', '1', '2', '3', '4', '5', '6', '7', '8', '9'],\n",
    "    \n",
    "    'float' : [['all', '.', 'int']]\n",
    "}"
   ]
  },
  {
   "cell_type": "code",
   "execution_count": 7,
   "metadata": {
    "collapsed": true
   },
   "outputs": [],
   "source": [
    "grammar1 = Grammar(Rules, functions, 20, 'S')"
   ]
  },
  {
   "cell_type": "code",
   "execution_count": 15,
   "metadata": {
    "collapsed": false
   },
   "outputs": [
    {
     "name": "stdout",
     "output_type": "stream",
     "text": [
      "['multiple', ['6', '1'], ['multiple', ['5', '.', ['6', '7']], '1']]\n"
     ]
    }
   ],
   "source": [
    "rna = [random.randint(0,256) for x in range(1,10000)]\n",
    "translation = grammar1.translate(rna)\n",
    "print(translation)"
   ]
  },
  {
   "cell_type": "code",
   "execution_count": 16,
   "metadata": {
    "collapsed": false
   },
   "outputs": [
    {
     "name": "stdout",
     "output_type": "stream",
     "text": [
      "345.87\n"
     ]
    }
   ],
   "source": [
    "tree = grammar1.build_exec_tree(translation)\n",
    "print(tree.evaluate(0))"
   ]
  },
  {
   "cell_type": "code",
   "execution_count": 17,
   "metadata": {
    "collapsed": false
   },
   "outputs": [
    {
     "name": "stdout",
     "output_type": "stream",
     "text": [
      "multiple\n",
      "  61\n",
      "  multiple\n",
      "    5.67\n",
      "    1\n"
     ]
    }
   ],
   "source": [
    "tree.disp()"
   ]
  },
  {
   "cell_type": "code",
   "execution_count": null,
   "metadata": {
    "collapsed": true
   },
   "outputs": [],
   "source": []
  }
 ],
 "metadata": {
  "anaconda-cloud": {},
  "kernelspec": {
   "display_name": "Python [default]",
   "language": "python",
   "name": "python3"
  },
  "language_info": {
   "codemirror_mode": {
    "name": "ipython",
    "version": 3
   },
   "file_extension": ".py",
   "mimetype": "text/x-python",
   "name": "python",
   "nbconvert_exporter": "python",
   "pygments_lexer": "ipython3",
   "version": "3.5.2"
  }
 },
 "nbformat": 4,
 "nbformat_minor": 1
}
