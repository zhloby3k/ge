{
 "cells": [
  {
   "cell_type": "code",
   "execution_count": 1,
   "metadata": {
    "collapsed": false
   },
   "outputs": [],
   "source": [
    "import numpy as np\n",
    "import pandas as pd\n",
    "import matplotlib.pylab as plt\n",
    "import trade\n",
    "import random\n",
    "import tester\n",
    "\n",
    "%matplotlib inline\n",
    "pd.set_option('display.notebook_repr', False)"
   ]
  },
  {
   "cell_type": "code",
   "execution_count": 2,
   "metadata": {
    "collapsed": false
   },
   "outputs": [],
   "source": [
    "# Atrificail data creation\n",
    "# Sine wave\n",
    "\n",
    "N = 2000\n",
    "i = np.linspace(-np.pi, np.pi*8, N);\n",
    "x = np.sin(i) + 2\n",
    "\n",
    "df = pd.DataFrame(data=x,columns=['open'])\n",
    "df['lag'] = df['open'].shift(1)\n",
    "# When open increase, bar is up\n",
    "df.ix[df['open'] > df['lag'], 'close'] = df['open'] + 0.1\n",
    "df.ix[df['open'] > df['lag'], 'high']  = df['open'] + 0.15\n",
    "df.ix[df['open'] > df['lag'], 'low']   = df['open'] - 0.05\n",
    "\n",
    "# When open decrease, bar is down\n",
    "df.ix[df['open'] < df['lag'], 'close'] = df['open'] - 0.1\n",
    "df.ix[df['open'] < df['lag'], 'high']  = df['open'] + 0.05\n",
    "df.ix[df['open'] < df['lag'], 'low']   = df['open'] - 0.15\n",
    "\n",
    "# Else doji\n",
    "df.ix[df['open'] == df['lag'], 'close'] = df['open']\n",
    "df.ix[df['open'] == df['lag'], 'high']  = df['open'] + 0.05\n",
    "df.ix[df['open'] == df['lag'], 'low']   = df['open'] - 0.05\n",
    "\n",
    "df = df[1:]"
   ]
  },
  {
   "cell_type": "code",
   "execution_count": 3,
   "metadata": {
    "collapsed": true
   },
   "outputs": [],
   "source": [
    "data = {\n",
    "    'open'  : df['open' ].values,\n",
    "    'high'  : df['high' ].values,\n",
    "    'low'   : df['low'  ].values,\n",
    "    'close' : df['close'].values\n",
    "}"
   ]
  },
  {
   "cell_type": "code",
   "execution_count": 170,
   "metadata": {
    "collapsed": false
   },
   "outputs": [],
   "source": [
    "grammar = trade.get_grammar(data)"
   ]
  },
  {
   "cell_type": "code",
   "execution_count": 177,
   "metadata": {
    "collapsed": false
   },
   "outputs": [],
   "source": [
    "rna = [random.randint(0,256) for x in range(1,10000)]\n",
    "translation = grammar.translate(rna)"
   ]
  },
  {
   "cell_type": "code",
   "execution_count": 178,
   "metadata": {
    "collapsed": false
   },
   "outputs": [],
   "source": [
    "tree = grammar.build_exec_tree(translation)"
   ]
  },
  {
   "cell_type": "code",
   "execution_count": 179,
   "metadata": {
    "collapsed": false
   },
   "outputs": [
    {
     "name": "stdout",
     "output_type": "stream",
     "text": [
      "if\n",
      "  not\n",
      "    or\n",
      "      less\n",
      "        2\n",
      "        ma\n",
      "          80\n",
      "      greater\n",
      "        add\n",
      "          multiple\n",
      "            add\n",
      "              ma\n",
      "                25\n",
      "              offset\n",
      "                9.5\n",
      "                2\n",
      "            offset\n",
      "              ma\n",
      "                98\n",
      "              6\n",
      "          multiple\n",
      "            offset\n",
      "              ma\n",
      "                31\n",
      "              4\n",
      "            multiple\n",
      "              add\n",
      "                add\n",
      "                  ma\n",
      "                    48\n",
      "                  7.2\n",
      "                sustract\n",
      "                  1\n",
      "                  26\n",
      "              offset\n",
      "                7.9\n",
      "                4\n",
      "        4.2\n",
      "  buy\n",
      "  if\n",
      "    not\n",
      "      less\n",
      "        ma\n",
      "          23\n",
      "        5.7\n",
      "    sell\n",
      "    do_nothing\n"
     ]
    }
   ],
   "source": [
    "tree.disp()"
   ]
  },
  {
   "cell_type": "code",
   "execution_count": 180,
   "metadata": {
    "collapsed": false
   },
   "outputs": [],
   "source": [
    "system = tester.System(tree, lambda x: x)"
   ]
  },
  {
   "cell_type": "code",
   "execution_count": 181,
   "metadata": {
    "collapsed": false
   },
   "outputs": [],
   "source": [
    "result = tester.test_system(system, data, 0, N)"
   ]
  },
  {
   "cell_type": "code",
   "execution_count": 182,
   "metadata": {
    "collapsed": false
   },
   "outputs": [
    {
     "data": {
      "text/plain": [
       "[<matplotlib.lines.Line2D at 0x7f18a9150940>]"
      ]
     },
     "execution_count": 182,
     "metadata": {},
     "output_type": "execute_result"
    },
    {
     "data": {
      "image/png": "[encoded data removed]",
      "text/plain": [
       "<matplotlib.figure.Figure at 0x7f18a92fa390>"
      ]
     },
     "metadata": {},
     "output_type": "display_data"
    }
   ],
   "source": [
    "plt.plot(np.cumsum(result['results']))"
   ]
  }
 ],
 "metadata": {
  "anaconda-cloud": {},
  "kernelspec": {
   "display_name": "Python [conda root]",
   "language": "python",
   "name": "conda-root-py"
  },
  "language_info": {
   "codemirror_mode": {
    "name": "ipython",
    "version": 3
   },
   "file_extension": ".py",
   "mimetype": "text/x-python",
   "name": "python",
   "nbconvert_exporter": "python",
   "pygments_lexer": "ipython3",
   "version": "3.5.2"
  }
 },
 "nbformat": 4,
 "nbformat_minor": 1
}
