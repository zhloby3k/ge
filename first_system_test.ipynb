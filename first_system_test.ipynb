{
 "cells": [
  {
   "cell_type": "code",
   "execution_count": 1,
   "metadata": {
    "collapsed": false
   },
   "outputs": [],
   "source": [
    "import numpy as np\n",
    "import pandas as pd\n",
    "import matplotlib.pylab as plt\n",
    "import trade\n",
    "import random\n",
    "import tester\n",
    "\n",
    "%matplotlib inline\n",
    "pd.set_option('display.notebook_repr', False)"
   ]
  },
  {
   "cell_type": "code",
   "execution_count": 2,
   "metadata": {
    "collapsed": false
   },
   "outputs": [],
   "source": [
    "# Atrificail data creation\n",
    "# Sine wave\n",
    "\n",
    "N = 2000\n",
    "i = np.linspace(-np.pi, np.pi*8, N);\n",
    "x = np.sin(i) + 2\n",
    "\n",
    "df = pd.DataFrame(data=x,columns=['open'])\n",
    "df['lag'] = df['open'].shift(1)\n",
    "# When open increase, bar is up\n",
    "df.ix[df['open'] > df['lag'], 'close'] = df['open'] + 0.1\n",
    "df.ix[df['open'] > df['lag'], 'high']  = df['open'] + 0.15\n",
    "df.ix[df['open'] > df['lag'], 'low']   = df['open'] - 0.05\n",
    "\n",
    "# When open decrease, bar is down\n",
    "df.ix[df['open'] < df['lag'], 'close'] = df['open'] - 0.1\n",
    "df.ix[df['open'] < df['lag'], 'high']  = df['open'] + 0.05\n",
    "df.ix[df['open'] < df['lag'], 'low']   = df['open'] - 0.15\n",
    "\n",
    "# Else doji\n",
    "df.ix[df['open'] == df['lag'], 'close'] = df['open']\n",
    "df.ix[df['open'] == df['lag'], 'high']  = df['open'] + 0.05\n",
    "df.ix[df['open'] == df['lag'], 'low']   = df['open'] - 0.05\n",
    "\n",
    "df = df[1:]"
   ]
  },
  {
   "cell_type": "code",
   "execution_count": 3,
   "metadata": {
    "collapsed": true
   },
   "outputs": [],
   "source": [
    "data = {\n",
    "    'open'  : df['open' ].values,\n",
    "    'high'  : df['high' ].values,\n",
    "    'low'   : df['low'  ].values,\n",
    "    'close' : df['close'].values\n",
    "}"
   ]
  },
  {
   "cell_type": "code",
   "execution_count": 4,
   "metadata": {
    "collapsed": false
   },
   "outputs": [],
   "source": [
    "grammar = trade.get_grammar(data)"
   ]
  },
  {
   "cell_type": "code",
   "execution_count": 11,
   "metadata": {
    "collapsed": false
   },
   "outputs": [
    {
     "name": "stdout",
     "output_type": "stream",
     "text": [
      "['if', ['greater', ['ma', ['8', '1']], '4'], '\"buy\"', ['if', ['greater', ['offset', ['sustract', '8', ['ma', ['2', '0']]], '1'], '5'], '\"sell\"', '\"do_nothing\"']]\n"
     ]
    }
   ],
   "source": [
    "rna = [random.randint(0,256) for x in range(1,10000)]\n",
    "translation = grammar.translate(rna)\n",
    "print(translation)"
   ]
  },
  {
   "cell_type": "code",
   "execution_count": 12,
   "metadata": {
    "collapsed": false
   },
   "outputs": [],
   "source": [
    "tree = grammar.build_exec_tree(translation)"
   ]
  },
  {
   "cell_type": "code",
   "execution_count": 13,
   "metadata": {
    "collapsed": false
   },
   "outputs": [
    {
     "name": "stdout",
     "output_type": "stream",
     "text": [
      "if\n",
      "  greater\n",
      "    ma\n",
      "      81\n",
      "    4\n",
      "  buy\n",
      "  if\n",
      "    greater\n",
      "      offset\n",
      "        sustract\n",
      "          8\n",
      "          ma\n",
      "            20\n",
      "        1\n",
      "      5\n",
      "    sell\n",
      "    do_nothing\n"
     ]
    }
   ],
   "source": [
    "tree.disp()"
   ]
  },
  {
   "cell_type": "code",
   "execution_count": 14,
   "metadata": {
    "collapsed": false
   },
   "outputs": [],
   "source": [
    "system = tester.System(tree, lambda x: x)"
   ]
  },
  {
   "cell_type": "code",
   "execution_count": 15,
   "metadata": {
    "collapsed": false
   },
   "outputs": [],
   "source": [
    "result = tester.test_system(system, data, 0, N)"
   ]
  },
  {
   "cell_type": "code",
   "execution_count": 16,
   "metadata": {
    "collapsed": false
   },
   "outputs": [
    {
     "data": {
      "text/plain": [
       "[<matplotlib.lines.Line2D at 0x7f18a9c2b2e8>]"
      ]
     },
     "execution_count": 16,
     "metadata": {},
     "output_type": "execute_result"
    },
    {
     "data": {
      "image/png": "[encoded data removed]",
      "text/plain": [
       "<matplotlib.figure.Figure at 0x7f18c6653748>"
      ]
     },
     "metadata": {},
     "output_type": "display_data"
    }
   ],
   "source": [
    "plt.plot(np.cumsum(result['results']))"
   ]
  },
  {
   "cell_type": "code",
   "execution_count": null,
   "metadata": {
    "collapsed": true
   },
   "outputs": [],
   "source": []
  }
 ],
 "metadata": {
  "anaconda-cloud": {},
  "kernelspec": {
   "display_name": "Python [conda root]",
   "language": "python",
   "name": "conda-root-py"
  },
  "language_info": {
   "codemirror_mode": {
    "name": "ipython",
    "version": 3
   },
   "file_extension": ".py",
   "mimetype": "text/x-python",
   "name": "python",
   "nbconvert_exporter": "python",
   "pygments_lexer": "ipython3",
   "version": "3.5.2"
  }
 },
 "nbformat": 4,
 "nbformat_minor": 1
}
