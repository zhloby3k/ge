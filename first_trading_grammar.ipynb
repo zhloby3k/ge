{
 "cells": [
  {
   "cell_type": "code",
   "execution_count": 18,
   "metadata": {
    "collapsed": true
   },
   "outputs": [],
   "source": [
    "from grammar import Grammar\n",
    "import random"
   ]
  },
  {
   "cell_type": "code",
   "execution_count": 26,
   "metadata": {
    "collapsed": false
   },
   "outputs": [],
   "source": [
    "def ma(x):\n",
    "    return x\n",
    "\n",
    "functions = {\n",
    "    'and'  : lambda x, y: x and y,\n",
    "    'or'   : lambda x, y: x or y,\n",
    "    'not'  : lambda x: not x,\n",
    "    \n",
    "    'add'      : lambda x, y: x + y,\n",
    "    'sustract' : lambda x, y: x - y,\n",
    "    'multiple' : lambda x, y: x * y,\n",
    "    \n",
    "    'greater' : lambda x, y: True if x > y else False,\n",
    "    'less'    : lambda x, y: True if x < y else False,\n",
    "    'equal'   : lambda x, y: True if x == y else False,\n",
    "    \n",
    "    'ma' : ma,\n",
    "    'stochastic' : lambda x: x\n",
    "}"
   ]
  },
  {
   "cell_type": "code",
   "execution_count": 20,
   "metadata": {
    "collapsed": false
   },
   "outputs": [],
   "source": [
    "rules = {\n",
    "    'S' : ['trade_expr'],\n",
    "    'trade_expr' : [['if', 'bool_expr', '\"buy\"', 'sell_expr']],\n",
    "    'sell_expr' : [['if', 'bool_expr', '\"sell\"', '\"do_nothing\"']],\n",
    "    \n",
    "    'bool_expr' : ['comb_bool', 'rel_bool'],\n",
    "    'comb_bool' : [['bi_op_bool', 'bool_expr', 'bool_expr'],\n",
    "                   ['u_op_bool', 'bool_expr']],\n",
    "    'rel_bool' : [['greater', 'num_expr', 'num_expr'],\n",
    "                  ['less', 'num_expr', 'num_expr']],\n",
    "    'bi_op_bool' : ['and', 'or'],\n",
    "    'u_op_bool' : ['not'],\n",
    "    'num_expr' : [['bi_op', 'num_expr', 'num_expr'], 'int', 'float', 'indicator'],\n",
    "        \n",
    "    'bi_op' : ['add', 'sustract', 'multiple'],\n",
    "    \n",
    "    'int' : ['all',\n",
    "             ['non_zero', 'all']],\n",
    "    \n",
    "    'float' : [['all', '.', 'int']],\n",
    "    \n",
    "    'non_zero' : ['1', '2', '3', '4', '5', '6', '7', '8', '9'],\n",
    "    'all' : ['0', '1', '2', '3', '4', '5', '6', '7', '8', '9'],\n",
    "    \n",
    "    'indicator' : [['ma', 'int'], ['stochastic', 'int']]\n",
    "    \n",
    "}"
   ]
  },
  {
   "cell_type": "code",
   "execution_count": 21,
   "metadata": {
    "collapsed": false
   },
   "outputs": [],
   "source": [
    "grammar1 = Grammar(rules, functions, 20, 'S')"
   ]
  },
  {
   "cell_type": "code",
   "execution_count": 22,
   "metadata": {
    "collapsed": false
   },
   "outputs": [
    {
     "name": "stdout",
     "output_type": "stream",
     "text": [
      "['if', ['greater', ['sustract', ['ma', '7'], ['4', '.', '8']], ['2', '.', '7']], '\"buy\"', ['if', ['not', ['not', ['not', ['not', ['less', '5', ['ma', '0']]]]]], '\"sell\"', '\"do_nothing\"']]\n"
     ]
    }
   ],
   "source": [
    "rna = [random.randint(0,256) for x in range(1,10000)]\n",
    "translation = grammar1.translate(rna)\n",
    "print(translation)"
   ]
  },
  {
   "cell_type": "code",
   "execution_count": 23,
   "metadata": {
    "collapsed": false
   },
   "outputs": [],
   "source": [
    "tree = grammar1.build_exec_tree(translation)"
   ]
  },
  {
   "cell_type": "code",
   "execution_count": 24,
   "metadata": {
    "collapsed": false
   },
   "outputs": [
    {
     "name": "stdout",
     "output_type": "stream",
     "text": [
      "if\n",
      "  greater\n",
      "    sustract\n",
      "      ma\n",
      "        7\n",
      "      4.8\n",
      "    2.7\n",
      "  buy\n",
      "  if\n",
      "    not\n",
      "      not\n",
      "        not\n",
      "          not\n",
      "            less\n",
      "              5\n",
      "              ma\n",
      "                0\n",
      "    sell\n",
      "    do_nothing\n"
     ]
    }
   ],
   "source": [
    "tree.disp()"
   ]
  },
  {
   "cell_type": "code",
   "execution_count": 25,
   "metadata": {
    "collapsed": false
   },
   "outputs": [
    {
     "data": {
      "text/plain": [
       "'do_nothing'"
      ]
     },
     "execution_count": 25,
     "metadata": {},
     "output_type": "execute_result"
    }
   ],
   "source": [
    "tree.evaluate()"
   ]
  }
 ],
 "metadata": {
  "anaconda-cloud": {},
  "kernelspec": {
   "display_name": "Python [conda root]",
   "language": "python",
   "name": "conda-root-py"
  },
  "language_info": {
   "codemirror_mode": {
    "name": "ipython",
    "version": 3
   },
   "file_extension": ".py",
   "mimetype": "text/x-python",
   "name": "python",
   "nbconvert_exporter": "python",
   "pygments_lexer": "ipython3",
   "version": "3.5.2"
  }
 },
 "nbformat": 4,
 "nbformat_minor": 1
}
