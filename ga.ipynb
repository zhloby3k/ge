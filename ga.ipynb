{
 "cells": [
  {
   "cell_type": "code",
   "execution_count": 1,
   "metadata": {
    "collapsed": true
   },
   "outputs": [],
   "source": [
    "import matplotlib as plt\n",
    "import random as rn, numpy as np\n",
    "\n",
    "# [Init pop (pop=20), mut rate (=10%), num generations (5), chromosome/solution length (3), # winners/per gen]\n",
    "popSize, popCount, mutCount, winCount, kidCount, newCount, genCount = 32, 40, 20, 10, 20, 10, 20\n",
    "\n",
    "# convertion integer to bit array\n",
    "def int_to_bit(n):\n",
    "    return [1 if digit=='1' else 0 for digit in bin(n)[2:]] \n",
    "    \n",
    "def bit_to_int(bits):\n",
    "    return int(''.join(str(x) for x in bits), 2)\n",
    "\n",
    "# Mutation Operation\n",
    "def mutate(vec):\n",
    "    i = rn.randint(0, popSize-1)\n",
    "    return vec[0:i]+[0 if vec[i]==0 else 1]+vec[i+1:]\n",
    "\n",
    "# Crossover Operation\n",
    "def crossover(r1, r2):\n",
    "    \n",
    "    return r1[0:i]+r2[i:]\n",
    "\n",
    "# initialize current population to random values within range\n",
    "cur_population = []\n",
    "for i in range(popCount):\n",
    "    vec = [rn.randint(0, 1) for i in range(popSize)]\n",
    "    cur_population.append(vec)\n",
    "    \n",
    "# generation iterations \n",
    "for i in range(genCount):\n",
    "    scores = [(-bit_to_int(v),v) for v in cur_population]\n",
    "    scores.sort()\n",
    "    ranked = [v for (s,v) in scores]\n",
    "    cur_population = ranked[0:winCount]\n",
    "    \n",
    "    for i in range(int(kidCount/2)):\n",
    "        c1 = rn.randint(0, winCount)\n",
    "        c2 = rn.randint(0, winCount)\n",
    "        i = rn.randint(1, popSize-2)\n",
    "        cur_population.append(crossover(ranked[c1],ranked[c2]))\n",
    "        cur_population.append(crossover(ranked[c2],ranked[c1]))\n",
    "\n",
    "    for i in range(newCount):\n",
    "        vec = [rn.randint(0, 1) for i in range(popSize)]\n",
    "        cur_population.append(vec)\n",
    "\n",
    "    for i in range(mutCount):\n",
    "        c = rn.randint(winCount, len(cur_population)-1)\n",
    "        cur_population[c] = mutate(cur_population[c])\n"
   ]
  },
  {
   "cell_type": "code",
   "execution_count": null,
   "metadata": {
    "collapsed": true
   },
   "outputs": [],
   "source": []
  }
 ],
 "metadata": {
  "kernelspec": {
   "display_name": "Python [Root]",
   "language": "python",
   "name": "Python [Root]"
  },
  "language_info": {
   "codemirror_mode": {
    "name": "ipython",
    "version": 2
   },
   "file_extension": ".py",
   "mimetype": "text/x-python",
   "name": "python",
   "nbconvert_exporter": "python",
   "pygments_lexer": "ipython2",
   "version": "2.7.12"
  }
 },
 "nbformat": 4,
 "nbformat_minor": 0
}
