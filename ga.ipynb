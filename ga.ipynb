from __future__ import division
import matplotlib as plt
import random as rn, numpy as np

# [Init pop (pop=20), mut rate (=10%), num generations (5), chromosome/solution length (3), # winners/per gen]
popSize, popCount, mutCount, winCount, kidCount, newCount, genCount = 32, 40, 20, 10, 20, 10, 20

# convertion integer to bit array
def int_to_bit(n):
    return [1 if digit=='1' else 0 for digit in bin(n)[2:]] 
    
def bit_to_int(bits):
    return int(''.join(str(x) for x in bits), 2)

# Mutation Operation
def mutate(vec):
    i = rn.randint(0, popSize-1)
    return vec[0:i]+[0 if vec[i]==0 else 1]+vec[i+1:]

# Crossover Operation
def crossover(r1, r2):
    
    return r1[0:i]+r2[i:]

# initialize current population to random values within range
cur_population = []
for i in range(popCount):
    vec = [rn.randint(0, 1) for i in range(popSize)]
    cur_population.append(vec)
    
# generation iterations 
for i in range(genCount):
    scores = [(-bit_to_int(v),v) for v in cur_population]
    scores.sort()
    ranked = [v for (s,v) in scores]
    cur_population = ranked[0:winCount]
    
    for i in range(int(kidCount/2)):
        c1 = rn.randint(0, winCount)
        c2 = rn.randint(0, winCount)
        i = rn.randint(1, popSize-2)
        cur_population.append(crossover(ranked[c1],ranked[c2]))
        cur_population.append(crossover(ranked[c2],ranked[c1]))

    for i in range(newCount):
        vec = [rn.randint(0, 1) for i in range(popSize)]
        cur_population.append(vec)

    for i in range(mutCount):
        c = rn.randint(winCount, len(cur_population)-1)
        cur_population[c] = mutate(cur_population[c])
